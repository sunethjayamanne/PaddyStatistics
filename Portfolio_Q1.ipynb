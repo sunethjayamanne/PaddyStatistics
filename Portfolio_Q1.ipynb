{
 "cells": [
  {
   "cell_type": "code",
   "execution_count": 47,
   "id": "8189ed26-cb4d-4589-baf2-d43748d31585",
   "metadata": {},
   "outputs": [
    {
     "name": "stdout",
     "output_type": "stream",
     "text": [
      "✅ Dataset scraped and uploaded directly to GCS bucket 'paddy_statistics' as 'paddy_statistics_1952_2015.csv'!\n"
     ]
    }
   ],
   "source": [
    "# Google Cloud \n",
    "import requests\n",
    "from bs4 import BeautifulSoup\n",
    "import pandas as pd\n",
    "from google.cloud import storage\n",
    "import os\n",
    "\n",
    "# Google Cloud authentication\n",
    "os.environ[\"GOOGLE_APPLICATION_CREDENTIALS\"] = \"C:/Users/suneth.jayamanne/msc-project-portfolio-8c9eb0909b58.json\"\n",
    "\n",
    "# URL of the web page\n",
    "url = \"https://www.statistics.gov.lk/Agriculture/StaticalInformation/PaddyStatistics/Annual-BothSeasons-1952-2015\"\n",
    "\n",
    "# Web Scraping \n",
    "response = requests.get(url)\n",
    "response.raise_for_status()  # Check for request errors\n",
    "\n",
    "soup = BeautifulSoup(response.text, 'html.parser')\n",
    "\n",
    "tables = soup.find_all('table')\n",
    "table = tables[-1]  # Last Table taken to eliminate unwanted dats set \n",
    "\n",
    "# Extract table data\n",
    "data = []\n",
    "for row in table.find_all('tr'):\n",
    "    cells = row.find_all(['th', 'td'])\n",
    "    cell_data = [cell.get_text(strip=True) for cell in cells]\n",
    "    if len(cell_data) > 3:  # Filter out unwanted rows\n",
    "        data.append(cell_data)\n",
    "\n",
    "# Ensure rows have equal columns\n",
    "max_columns = max(len(row) for row in data)\n",
    "for row in data:\n",
    "    row += [\"\"] * (max_columns - len(row))  # Fill missing cells with empty strings\n",
    "\n",
    "# Create DataFrame and set first row as header\n",
    "df = pd.DataFrame(data[1:], columns=data[0])\n",
    "\n",
    "# Convert DataFrame to CSV string\n",
    "csv_data = df.to_csv(index=False)\n",
    "\n",
    "# Initialize Google Cloud Storage client\n",
    "client = storage.Client()\n",
    "\n",
    "# Define bucket and destination filename\n",
    "bucket_name = \"paddy_statistics\"  # Make sure this bucket exists in GCS\n",
    "destination_blob_name = \"paddy_statistics_1952_2015.csv\"\n",
    "\n",
    "# Upload the data directly to Google Cloud Storage\n",
    "bucket = client.bucket(bucket_name)\n",
    "blob = bucket.blob(destination_blob_name)\n",
    "blob.upload_from_string(csv_data, content_type='text/csv')\n",
    "\n",
    "print(f\"✅ Dataset scraped and uploaded directly to GCS bucket '{bucket_name}' as '{destination_blob_name}'!\")\n"
   ]
  },
  {
   "cell_type": "code",
   "execution_count": null,
   "id": "a16cc91e-ae07-49a7-b202-6d2c0c9db492",
   "metadata": {},
   "outputs": [],
   "source": []
  }
 ],
 "metadata": {
  "kernelspec": {
   "display_name": "Python 3 (ipykernel)",
   "language": "python",
   "name": "python3"
  },
  "language_info": {
   "codemirror_mode": {
    "name": "ipython",
    "version": 3
   },
   "file_extension": ".py",
   "mimetype": "text/x-python",
   "name": "python",
   "nbconvert_exporter": "python",
   "pygments_lexer": "ipython3",
   "version": "3.12.4"
  }
 },
 "nbformat": 4,
 "nbformat_minor": 5
}
